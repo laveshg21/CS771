{
  "nbformat": 4,
  "nbformat_minor": 0,
  "metadata": {
    "colab": {
      "provenance": []
    },
    "kernelspec": {
      "name": "python3",
      "display_name": "Python 3"
    },
    "language_info": {
      "name": "python"
    }
  },
  "cells": [
    {
      "cell_type": "code",
      "execution_count": null,
      "metadata": {
        "id": "BwbOQTRYVdHi"
      },
      "outputs": [],
      "source": [
        "import numpy as np\n",
        "import sklearn\n",
        "import time as tm\n",
        "from scipy.linalg import khatri_rao\n",
        "from sklearn.svm import LinearSVC"
      ]
    },
    {
      "cell_type": "code",
      "source": [
        "def my_fit( X_train, y_train ):\n",
        "\n",
        "\tfeatures = my_map(X_train)\n",
        "\tlabels = y_train\n",
        "\n",
        "\tmodel = LinearSVC()\n",
        "\tmodel.fit(features, labels)\n",
        "\tw = model.coef_.flatten()\n",
        "\tb = model.intercept_[0]\n",
        "\n",
        "\treturn w,b"
      ],
      "metadata": {
        "id": "ndjilO3QVgbx"
      },
      "execution_count": null,
      "outputs": []
    },
    {
      "cell_type": "code",
      "source": [
        "# def reduce_dimensionality_kronecker_product(X):\n",
        "#     num_columns = X.shape[1]\n",
        "#     result = []\n",
        "\n",
        "#     for i in range(num_columns):\n",
        "#         for j in range(i, num_columns):\n",
        "#             product = X[:, i] * X[:, j]\n",
        "#             result.append(product)\n",
        "\n",
        "#     return np.array(result).T\n",
        "\n",
        "# def my_map( X ):\n",
        "#   D = 2 * X - 1\n",
        "#   E = np.flip(D, axis = 1)\n",
        "#   F = np.cumprod(E, axis = 1)\n",
        "#   G = np.flip(F, axis = 1)\n",
        "#   H = reduce_dimensionality_kronecker_product(G)\n",
        "\n",
        "#   return H\n",
        "\n",
        "# ###################\n",
        "# def my_map2( X ):\n",
        "#   G = np.flip(np.cumprod(np.flip(2 * X - 1, axis = 1), axis = 1), axis = 1)\n",
        "\n",
        "#   num_columns = G.shape[1]\n",
        "#   result = []\n",
        "\n",
        "#   for i in range(num_columns):\n",
        "#       for j in range(i, num_columns):\n",
        "#           product = G[:, i] * G[:, j]\n",
        "#           result.append(product)\n",
        "\n",
        "#   return np.array(result).T\n",
        "\n",
        "# tic = tm.perf_counter()\n",
        "# features = my_map2(Z_trn)\n",
        "# toc = tm.perf_counter()\n",
        "# t_map = toc - tic\n",
        "# print(t_map)\n",
        "# print(features.shape)\n",
        "\n",
        "\n",
        "# ############################################\n",
        "# def my_map4( X ):\n",
        "#   G = np.flip(np.cumprod(np.flip(2 * X - 1, axis = 1), axis = 1), axis = 1)\n",
        "#   H = khatri_rao(G.T, G.T)\n",
        "\n",
        "#   return H.T\n",
        "\n",
        "# tic = tm.perf_counter()\n",
        "# features = my_map3(Z_trn)\n",
        "# toc = tm.perf_counter()\n",
        "# t_map = toc - tic\n",
        "# print(t_map)\n",
        "# print(features.shape)"
      ],
      "metadata": {
        "id": "IU6pI5tZ0zTC"
      },
      "execution_count": null,
      "outputs": []
    },
    {
      "cell_type": "code",
      "source": [
        "# BEST TIME:\n",
        "def my_map( X ):\n",
        "  X = np.flip(np.cumprod(np.flip(2 * X - 1, axis = 1), axis = 1), axis = 1)\n",
        "  X = np.hstack((X, np.ones((X.shape[0], 1))))\n",
        "  num_columns = X.shape[1]\n",
        "  feat = np.empty((X.shape[0], num_columns * (num_columns + 1) // 2))\n",
        "  idx = 0\n",
        "\n",
        "  for i in range(num_columns):\n",
        "      feat[:, idx:idx+num_columns-i] = X[:, i:] * X[:, i][:, np.newaxis]\n",
        "      idx += num_columns - i\n",
        "\n",
        "  return feat"
      ],
      "metadata": {
        "id": "in_z93UkzPo2"
      },
      "execution_count": null,
      "outputs": []
    },
    {
      "cell_type": "markdown",
      "source": [
        "# EVALUATION SCRIPT:"
      ],
      "metadata": {
        "id": "5Ex6B5ryxVC1"
      }
    },
    {
      "cell_type": "code",
      "source": [
        "Z_trn = np.loadtxt( \"secret_train.dat\" )\n",
        "Z_tst = np.loadtxt( \"secret_test.dat\" )\n",
        "\n",
        "# The variable n_trials is set to 5, indicating that the\n",
        "# subsequent operations will be repeated 5 times in a loop.\n",
        "n_trials = 5\n",
        "\n",
        "# These variables will be used to accumulate values across multiple trials.\n",
        "d_size = 0\n",
        "t_train = 0\n",
        "t_map = 0\n",
        "acc = 0"
      ],
      "metadata": {
        "id": "alB5awfqxWmD"
      },
      "execution_count": null,
      "outputs": []
    },
    {
      "cell_type": "code",
      "source": [
        "# features = my_map(Z_trn[:, :-1])\n",
        "# features.shape"
      ],
      "metadata": {
        "colab": {
          "base_uri": "https://localhost:8080/"
        },
        "id": "CRFZ7586z7mp",
        "outputId": "759253a5-6ff3-4c00-8eab-b359d68ee73a"
      },
      "execution_count": null,
      "outputs": [
        {
          "output_type": "execute_result",
          "data": {
            "text/plain": [
              "(40000, 561)"
            ]
          },
          "metadata": {},
          "execution_count": 11
        }
      ]
    },
    {
      "cell_type": "code",
      "source": [
        "# A for loop is initiated to repeat the following operations\n",
        "# for each trial, where t takes values from 0 to 4 (5 trials).\n",
        "\n",
        "for t in range( n_trials ):\n",
        "\n",
        "\t# TIME FOR TRAINING #\n",
        "\ttic = tm.perf_counter() # t_start\n",
        "\tw, b = my_fit(Z_trn[:, :-1], Z_trn[:,-1])\n",
        " \t# The my_fit function is called with the training data (Z_trn[:, :-1]\n",
        "\t# - all rows, except the last column, and Z_trn[:,-1] - the last column).\n",
        "\t# The returned weights w and bias b are assigned.\n",
        "\ttoc = tm.perf_counter() # t_end\n",
        "\tt_train += toc - tic   # t_train = time of training = t_end - t_Start\n",
        "\n",
        "\t# number of features or dimensions in the trained model.\n",
        "\td_size += w.shape[0]\n",
        "\n",
        "\t# TIME FOR MAPPING #\n",
        "\ttic = tm.perf_counter()\n",
        "\t# The my_map function is called with the testing data\n",
        "\t# (Z_tst[:, :-1]), and the resulting features are assigned to feat.\n",
        "\tfeat = my_map( Z_tst[:, :-1] )\n",
        "\ttoc = tm.perf_counter()\n",
        "\tt_map += toc - tic\n",
        "\n",
        "\tscores = feat.dot( w ) + b\n",
        "\tpred = np.zeros_like( scores )\n",
        "\tpred[scores > 0] = 1\n",
        "\tacc += np.average( Z_tst[ :, -1 ] == pred )"
      ],
      "metadata": {
        "colab": {
          "base_uri": "https://localhost:8080/"
        },
        "id": "5ZShfmuoxbfW",
        "outputId": "7d3915bc-aa93-4960-a60d-f88f07111fb8"
      },
      "execution_count": null,
      "outputs": [
        {
          "output_type": "stream",
          "name": "stderr",
          "text": [
            "/usr/local/lib/python3.10/dist-packages/sklearn/svm/_base.py:1244: ConvergenceWarning: Liblinear failed to converge, increase the number of iterations.\n",
            "  warnings.warn(\n",
            "/usr/local/lib/python3.10/dist-packages/sklearn/svm/_base.py:1244: ConvergenceWarning: Liblinear failed to converge, increase the number of iterations.\n",
            "  warnings.warn(\n",
            "/usr/local/lib/python3.10/dist-packages/sklearn/svm/_base.py:1244: ConvergenceWarning: Liblinear failed to converge, increase the number of iterations.\n",
            "  warnings.warn(\n",
            "/usr/local/lib/python3.10/dist-packages/sklearn/svm/_base.py:1244: ConvergenceWarning: Liblinear failed to converge, increase the number of iterations.\n",
            "  warnings.warn(\n",
            "/usr/local/lib/python3.10/dist-packages/sklearn/svm/_base.py:1244: ConvergenceWarning: Liblinear failed to converge, increase the number of iterations.\n",
            "  warnings.warn(\n"
          ]
        }
      ]
    },
    {
      "cell_type": "code",
      "source": [
        "d_size /= n_trials\n",
        "t_train /= n_trials\n",
        "t_map /= n_trials\n",
        "acc /= n_trials\n",
        "\n",
        "print( d_size, t_train, t_map, 1 - acc )"
      ],
      "metadata": {
        "colab": {
          "base_uri": "https://localhost:8080/"
        },
        "id": "vgjyx0gCxdYt",
        "outputId": "793d83fa-b439-4b76-e3b8-12f96b046a1d"
      },
      "execution_count": null,
      "outputs": [
        {
          "output_type": "stream",
          "name": "stdout",
          "text": [
            "561.0 11.547750719799978 0.04795899420000751 0.008500000000000063\n"
          ]
        }
      ]
    },
    {
      "cell_type": "code",
      "source": [
        "acc"
      ],
      "metadata": {
        "colab": {
          "base_uri": "https://localhost:8080/"
        },
        "id": "p18ckQEd20f9",
        "outputId": "8e892967-f609-465b-f01e-127e025102a5"
      },
      "execution_count": null,
      "outputs": [
        {
          "output_type": "execute_result",
          "data": {
            "text/plain": [
              "0.9914999999999999"
            ]
          },
          "metadata": {},
          "execution_count": 20
        }
      ]
    }
  ]
}